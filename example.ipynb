{
 "cells": [
  {
   "cell_type": "code",
   "execution_count": 9,
   "id": "a4a570cd-2bff-4957-8720-28e3ee17513d",
   "metadata": {},
   "outputs": [],
   "source": [
    "def cmpitool(model_path, models, eval_models=None, out_path='output/', obs_path='obs/' , reanalysis='ERA5', \n",
    "             eval_path=None, time='198912-201411', seasons=['MAM', 'JJA', 'SON', 'DJF'], \n",
    "             maskfixes=True, use_for_eval=False, complexity='boxes', verbose=False):\n",
    "    '''\n",
    "    AUTHORS:\n",
    "    Jan Streffing\t\t2022-12-01\tSplit off from main tool\n",
    "\n",
    "    DESCRIPTION:\n",
    "    This is the main function of the cmpitool. Here we set up the default configration \n",
    "    and call all subsequent functions.\n",
    "    \n",
    "    INPUT:\n",
    "    model_path                  Path pointing towards the output of your model,\n",
    "                                preprocessed to be read in by cmiptool\n",
    "    models\t\t        List of climate model objects to be evaluated via cmiptool\n",
    "    eval_models                 List of climate model objects used as reference for evaluation\n",
    "                                By default this is set to None, which results in a set of 30 CMIP6\n",
    "                                being used\n",
    "    out_path                    String pointing to the folder in which results will be stored\n",
    "    obs_path                    String pointing to the folder in which observational data\n",
    "                                against which the errors will be calculated are stored\n",
    "    reanalysis                  String allowing switch between ERA5 and NCEP2 for the \n",
    "                                variables where obs come from atmopsheric reanalysis\n",
    "                                systems (tas, uas, vas, ua, zg)\n",
    "    eval_path                   String pointing to the folder that contains pre-computed \n",
    "                                error values for 30 CMIP6 models, as well as the default\n",
    "                                variables, regions and seasons.\n",
    "    time                        String containing anaylsis period.\n",
    "    seasons                     List of seasons for which the analysis can be done\n",
    "    maskfixes                   By default we load a set of ocean basins and \n",
    "                                continents that sometimes overlap. This switch\n",
    "                                fixes this particular dataset. If you read in\n",
    "                                your own masks, you want to turn this off!\n",
    "    complexity                  String allowing selection of whether cmip shall be calulated\n",
    "                                for simple lat/lon boxes (boxes) or continents & ocean\n",
    "                                basins (regions)\n",
    "    verbose                     Boolean to activate verbose output\n",
    "\n",
    "\n",
    "    RETURN:\n",
    "    '''\n",
    "\n",
    "    from cmpitool import (cmpisetup, config_cmip6, add_masks, loading_obs, loading_models, calculate_errors,\n",
    "                          read_errors, calculate_fractions, write_fractions, plotting_heatmaps)\n",
    "\n",
    "    #Setup safe paths\n",
    "    obs_path=obs_path+'/'\n",
    "    model_path=model_path+'/'\n",
    "    out_path=out_path+'/'\n",
    "    if eval_path == None:\n",
    "        eval_path='eval/'+reanalysis+'/'\n",
    "    else:\n",
    "        eval_path=eval_path+'/'\n",
    "\n",
    "    variable, region, climate_model, siconc, tas, clt, pr, rlut, uas, vas, ua, zg, zos, tos, mlotst, thetao, so = cmpisetup()\n",
    "\n",
    "    obs = [siconc, tas, clt, pr, rlut, uas, vas, ua, zg, zos, tos, mlotst, thetao, so]\n",
    "\n",
    "    '''\n",
    "    If you don't add all variables to obs for your analysis, the missing ones will be skipped.\n",
    "    However the variables are still present in the pre-generated .csv files. \n",
    "    We still need to loop over the skipped variables to access the right lines. \n",
    "    Thus we set number_of_implemented_variables manually, currently to 14.\n",
    "    - If you add more variables and generate new .csv files, increase the number 14 accordingly!\n",
    "    - If you just skip a variable for your analysis, don't change number_of_implemented_variables!\n",
    "    '''\n",
    "    n_implemented_var = 14 \n",
    "            \n",
    "    #The CMIP6 models are set up by default in their own function\n",
    "    cmip6_models = config_cmip6(climate_model, obs)\n",
    "\n",
    "    #The use can define their own set of evaluation models. If they don't we use cmip6 by default.\n",
    "    if eval_models == None:\n",
    "        eval_models = cmip6_models\n",
    "\n",
    "    #Instancing default regions:\n",
    "    #Boxes:\n",
    "    glob = region(name='glob', domain='mixed')\n",
    "    arctic = region(name='arctic', domain='mixed')\n",
    "    northmid = region(name='northmid', domain='mixed')\n",
    "    tropics = region(name='tropics', domain='mixed')\n",
    "    innertropics = region(name='innertropics', domain='mixed')\n",
    "    nino34 = region(name='nino34', domain='mixed')\n",
    "    southmid = region(name='southmid', domain='mixed')\n",
    "    antarctic = region(name='antarctic', domain='mixed')\n",
    "    #Ocean basins:\n",
    "    Atlantic_Basin = region(name='Atlantic_Basin', domain='ocean')\n",
    "    Pacific_Basin = region(name='Pacific_Basin', domain='ocean')\n",
    "    Indian_Basin = region(name='Indian_Basin', domain='ocean')\n",
    "    Arctic_Basin = region(name='Arctic_Basin', domain='ocean')\n",
    "    Southern_Ocean_Basin = region(name='Southern_Ocean_Basin', domain='ocean')\n",
    "    Mediterranean_Basin = region(name='Mediterranean_Basin', domain='ocean')\n",
    "    #Landmasses:\n",
    "    Asia = region(name='Asia', domain='land')\n",
    "    North_America = region(name='North_America', domain='land')\n",
    "    Europe = region(name='Europe', domain='land')\n",
    "    Africa = region(name='Africa', domain='land')\n",
    "    South_America = region(name='South_America', domain='land')\n",
    "    Oceania = region(name='Oceania', domain='land')\n",
    "    Australia = region(name='Australia', domain='land')\n",
    "    Antarctica = region(name='Antarctica', domain='land')\n",
    "\n",
    "    #Select which of the above you actually want to use by added them to the list of regions.\n",
    "    #complexity allows choosing from some premade lists.\n",
    "\n",
    "    if complexity == 'boxes':\n",
    "        regions = [arctic, northmid, tropics, nino34, southmid, antarctic]\n",
    "    elif complexity == 'boxes_all':\n",
    "        regions = [glob, arctic, northmid, tropics, innertropics, nino34, southmid, antarctic]\n",
    "    elif complexity == 'regions':\n",
    "        regions = [Atlantic_Basin, Pacific_Basin, Indian_Basin, Arctic_Basin, Southern_Ocean_Basin, \n",
    "                          Mediterranean_Basin, Asia, North_America, Europe, Africa, South_America, \n",
    "                          Oceania, Australia, Antarctica]\n",
    "    else:\n",
    "        regions = [Atlantic_Basin, Pacific_Basin, Indian_Basin, Arctic_Basin, Southern_Ocean_Basin, \n",
    "                          Mediterranean_Basin, Asia, North_America, Europe, Africa, South_America, Oceania, \n",
    "                          Australia, Antarctica,glob, arctic, northmid, tropics, innertropics, nino34, \n",
    "                          southmid, antarctic]\n",
    "\n",
    "        \n",
    "    #####################################\n",
    "    # End of user config, start of tool #\n",
    "    #####################################\n",
    "\n",
    "    #Function to add masks to the selected regions\n",
    "    regions = add_masks(regions, verbose)\n",
    "    \n",
    "    #Loading observational data\n",
    "    ds_obs = loading_obs(obs, obs_path, seasons, verbose)\n",
    "\n",
    "    #Loading model data\n",
    "    ds_model = loading_models(models, model_path, seasons, time, verbose)\n",
    "    \n",
    "    #Calculate model absolute error fields and area weighted means\n",
    "    abs_error, mean_error = calculate_errors(ds_model, ds_obs, models, regions, seasons, verbose)\n",
    "    \n",
    "\n",
    "    #Writing errors into csv files that can be:\n",
    "    # a) read in for further cmip calculation\n",
    "    # b) placed into eval/ subfolder to read as evaluation data\n",
    "    write_errors(abs_error, mean_error, models, regions, seasons, out_path, use_for_eval, eval_path, verbose)\n",
    "    import pdb; pdb.set_trace()\n",
    "\n",
    "    #Reading in previously written absolute errors\n",
    "    eval_error_mean = read_errors(obs, eval_models, regions, seasons, out_path, eval_path, \n",
    "                                  n_implemented_var, verbose)\n",
    "    \n",
    "    #Calculate fraction between your model errors and the evaluation model errors\n",
    "    error_fraction = calculate_fractions(models, regions, seasons, mean_error, eval_error_mean, verbose)\n",
    "    \n",
    "    cmpi =  write_fractions(error_fraction, models, regions, seasons, out_path, verbose)\n",
    "    \n",
    "    plotting_heatmaps(models, regions, seasons, obs, error_fraction, cmpi, out_path, verbose)\n"
   ]
  },
  {
   "cell_type": "code",
   "execution_count": 10,
   "id": "257da349-691d-40bc-93f3-c73d2fd2416a",
   "metadata": {},
   "outputs": [],
   "source": [
    "def write_errors(abs_error, mean_error, models, regions, seasons, out_path, use_for_eval, eval_path, verbose):\n",
    "    '''\n",
    "    AUTHORS:\n",
    "    Jan Streffing\t\t2022-11-30\tSplit off from main tool\n",
    "\n",
    "    DESCRIPTION:\n",
    "    This function calculates the pointwise absolute error and the mean absolute error \n",
    "    between your model(s) and the observational data. It does so separatly for each\n",
    "    model, region, season, variable and optionally depth.\n",
    "    \n",
    "    INPUT:\n",
    "    abs_error\t\t        Ordered dictionary containing fields of absolute error\n",
    "                                between model and obs data\n",
    "    mean_error                  Ordered dictionary containing fields area weighted mean\n",
    "                                of abs_error\n",
    "    models                      List of models to be evaluated\n",
    "    regions                     List of regions to be evaluated\n",
    "    seasons                     List of seasons to be evaluated\n",
    "    out_path                    Path to folder containing absolute error csv files\n",
    "    eval_path                   Path to folder containing absolute errors of evaluation\n",
    "                                experiments\n",
    "    verbose                     Boolean for verbose output\n",
    "\n",
    "    RETURN:\n",
    "    '''\n",
    "    \n",
    "    import csv\n",
    "    from tqdm import tqdm\n",
    "    import numpy as np\n",
    "    import shutil\n",
    "\n",
    "    print('Writing field mean of errors into csv files')\n",
    "\n",
    "    for model in tqdm(models):\n",
    "        with open(out_path+'abs/'+model.name+'.csv', 'w', newline='') as csvfile:\n",
    "            writer = csv.writer(csvfile, delimiter=' ',quotechar='|', quoting=csv.QUOTE_MINIMAL)\n",
    "            writer.writerow(['Variable','Region','Level','Season','AbsMeanError'])\n",
    "            for var in model.variables:\n",
    "                for region in regions:\n",
    "                    for depth in var.depths:\n",
    "                        for seas in seasons:\n",
    "                            if verbose:\n",
    "                                print(seas, depth, region.name, var.name, model.name)\n",
    "                                import pdb; pdb.set_trace()\n",
    "                                print(writer.writerow([var.name,region.name,depth,seas,np.squeeze(mean_error[var.name,depth,seas,model.name,region.name].to_array(var.name).values[0])]))\n",
    "                            writer.writerow([var.name,region.name,depth,seas,np.squeeze(mean_error[var.name,depth,seas,model.name,region.name].to_array(var.name).values[0])])\n",
    "        if use_for_eval:\n",
    "             shutil.copyfile(out_path+'abs/'+model.name+'.csv', eval_path+model.name+'.csv')   "
   ]
  },
  {
   "cell_type": "code",
   "execution_count": null,
   "id": "bf68c56a",
   "metadata": {},
   "outputs": [
    {
     "name": "stderr",
     "output_type": "stream",
     "text": [
      "/work/ab0246/a270092/software/miniconda3/envs/cmpitool/lib/python3.9/site-packages/regionmask/core/mask.py:378: UserWarning: Detected overlapping regions. As of v0.11.0 these are correctly taken into account. Note, however, that a different mask is returned than with older versions of regionmask. To suppress this warning, set `overlap=True` (to restore the old, incorrect, behaviour, set `overlap=False`).\n",
      "  warnings.warn(\n"
     ]
    },
    {
     "name": "stdout",
     "output_type": "stream",
     "text": [
      "Mask available for: 0 Asia\n",
      "Mask available for: 1 North_America\n",
      "Mask available for: 2 Europe\n",
      "Mask available for: 3 Africa\n",
      "Mask available for: 4 South_America\n",
      "Mask available for: 5 Oceania\n",
      "Mask available for: 6 Australia\n",
      "Mask available for: 7 Antarctica\n",
      "Mask available for: 0 Atlantic_Basin\n",
      "Mask available for: 1 Pacific_Basin\n",
      "Mask available for: 2 Indian_Basin\n",
      "Mask available for: 3 Arctic_Basin\n",
      "Mask available for: 4 Southern_Ocean_Basin\n",
      "Mask available for: 5 Mediterranean_Basin\n",
      "Mask available for: 14 glob\n",
      "Mask available for: 15 arctic\n",
      "Mask available for: 16 northmid\n",
      "Mask available for: 17 tropics\n",
      "Mask available for: 18 innertropics\n",
      "Mask available for: 19 nino34\n",
      "Mask available for: 20 southmid\n",
      "Mask available for: 21 antarctic\n",
      "Selecting Mask for: Atlantic_Basin\n",
      "Selecting Mask for: Pacific_Basin\n",
      "Selecting Mask for: Indian_Basin\n",
      "Selecting Mask for: Arctic_Basin\n",
      "Selecting Mask for: Southern_Ocean_Basin\n",
      "Selecting Mask for: Mediterranean_Basin\n",
      "Selecting Mask for: Asia\n",
      "Selecting Mask for: North_America\n",
      "Selecting Mask for: Europe\n",
      "Selecting Mask for: Africa\n",
      "Selecting Mask for: South_America\n",
      "Selecting Mask for: Oceania\n",
      "Selecting Mask for: Australia\n",
      "Selecting Mask for: Antarctica\n",
      "Selecting Mask for: glob\n",
      "Selecting Mask for: arctic\n",
      "Selecting Mask for: northmid\n",
      "Selecting Mask for: tropics\n",
      "Selecting Mask for: innertropics\n",
      "Selecting Mask for: nino34\n",
      "Selecting Mask for: southmid\n",
      "Selecting Mask for: antarctic\n",
      "Loading obs data\n"
     ]
    },
    {
     "name": "stderr",
     "output_type": "stream",
     "text": [
      " 21%|██████████████████████████████                                                                                                              | 3/14 [00:00<00:00, 25.11it/s]"
     ]
    },
    {
     "name": "stdout",
     "output_type": "stream",
     "text": [
      "loading obs//siconc_OSISAF_surface_MAM.nc\n",
      "loading obs//siconc_OSISAF_surface_JJA.nc\n",
      "loading obs//siconc_OSISAF_surface_SON.nc\n",
      "loading obs//siconc_OSISAF_surface_DJF.nc\n",
      "loading obs//tas_ERA5_surface_MAM.nc\n",
      "loading obs//tas_ERA5_surface_JJA.nc\n",
      "loading obs//tas_ERA5_surface_SON.nc\n",
      "loading obs//tas_ERA5_surface_DJF.nc\n",
      "loading obs//clt_MODIS_surface_MAM.nc\n",
      "loading obs//clt_MODIS_surface_JJA.nc\n",
      "loading obs//clt_MODIS_surface_SON.nc\n",
      "loading obs//clt_MODIS_surface_DJF.nc\n",
      "loading obs//pr_GPCP_surface_MAM.nc\n",
      "loading obs//pr_GPCP_surface_JJA.nc\n",
      "loading obs//pr_GPCP_surface_SON.nc\n",
      "loading obs//pr_GPCP_surface_DJF.nc\n",
      "loading obs//rlut_CERES_surface_MAM.nc\n",
      "loading obs//rlut_CERES_surface_JJA.nc\n",
      "loading obs//rlut_CERES_surface_SON.nc\n",
      "loading obs//rlut_CERES_surface_DJF.nc\n",
      "loading obs//uas_ERA5_surface_MAM.nc\n",
      "loading obs//uas_ERA5_surface_JJA.nc\n",
      "loading obs//uas_ERA5_surface_SON.nc\n",
      "loading obs//uas_ERA5_surface_DJF.nc\n"
     ]
    },
    {
     "name": "stderr",
     "output_type": "stream",
     "text": [
      " 50%|██████████████████████████████████████████████████████████████████████                                                                      | 7/14 [00:00<00:00, 28.91it/s]"
     ]
    },
    {
     "name": "stdout",
     "output_type": "stream",
     "text": [
      "loading obs//vas_ERA5_surface_MAM.nc\n",
      "loading obs//vas_ERA5_surface_JJA.nc\n",
      "loading obs//vas_ERA5_surface_SON.nc\n",
      "loading obs//vas_ERA5_surface_DJF.nc\n",
      "loading obs//ua_ERA5_300hPa_MAM.nc\n",
      "loading obs//ua_ERA5_300hPa_JJA.nc\n",
      "loading obs//ua_ERA5_300hPa_SON.nc\n",
      "loading obs//ua_ERA5_300hPa_DJF.nc\n",
      "loading obs//zg_ERA5_500hPa_MAM.nc\n",
      "loading obs//zg_ERA5_500hPa_JJA.nc\n",
      "loading obs//zg_ERA5_500hPa_SON.nc\n",
      "loading obs//zg_ERA5_500hPa_DJF.nc\n",
      "loading obs//zos_NESDIS_surface_MAM.nc\n",
      "loading obs//zos_NESDIS_surface_JJA.nc\n",
      "loading obs//zos_NESDIS_surface_SON.nc\n",
      "loading obs//zos_NESDIS_surface_DJF.nc\n",
      "loading obs//tos_HadISST2_surface_MAM.nc\n",
      "loading obs//tos_HadISST2_surface_JJA.nc\n",
      "loading obs//tos_HadISST2_surface_SON.nc\n",
      "loading obs//tos_HadISST2_surface_DJF.nc\n"
     ]
    },
    {
     "name": "stderr",
     "output_type": "stream",
     "text": [
      " 79%|█████████████████████████████████████████████████████████████████████████████████████████████████████████████▏                             | 11/14 [00:00<00:00, 29.70it/s]"
     ]
    },
    {
     "name": "stdout",
     "output_type": "stream",
     "text": [
      "loading obs//mlotst_C-GLORSv7_surface_MAM.nc\n",
      "loading obs//mlotst_C-GLORSv7_surface_JJA.nc\n",
      "loading obs//mlotst_C-GLORSv7_surface_SON.nc\n",
      "loading obs//mlotst_C-GLORSv7_surface_DJF.nc\n",
      "loading obs//thetao_EN4_10m_MAM.nc\n",
      "loading obs//thetao_EN4_10m_JJA.nc\n",
      "loading obs//thetao_EN4_10m_SON.nc\n",
      "loading obs//thetao_EN4_10m_DJF.nc\n",
      "loading obs//thetao_EN4_100m_MAM.nc\n",
      "loading obs//thetao_EN4_100m_JJA.nc\n",
      "loading obs//thetao_EN4_100m_SON.nc\n",
      "loading obs//thetao_EN4_100m_DJF.nc\n",
      "loading obs//thetao_EN4_1000m_MAM.nc\n",
      "loading obs//thetao_EN4_1000m_JJA.nc\n",
      "loading obs//thetao_EN4_1000m_SON.nc\n",
      "loading obs//thetao_EN4_1000m_DJF.nc\n",
      "loading obs//so_EN4_10m_MAM.nc\n",
      "loading obs//so_EN4_10m_JJA.nc\n",
      "loading obs//so_EN4_10m_SON.nc\n",
      "loading obs//so_EN4_10m_DJF.nc\n",
      "loading obs//so_EN4_100m_MAM.nc\n",
      "loading obs//so_EN4_100m_JJA.nc\n",
      "loading obs//so_EN4_100m_SON.nc\n",
      "loading obs//so_EN4_100m_DJF.nc\n",
      "loading obs//so_EN4_1000m_MAM.nc\n",
      "loading obs//so_EN4_1000m_JJA.nc\n",
      "loading obs//so_EN4_1000m_SON.nc\n"
     ]
    },
    {
     "name": "stderr",
     "output_type": "stream",
     "text": [
      "100%|███████████████████████████████████████████████████████████████████████████████████████████████████████████████████████████████████████████| 14/14 [00:00<00:00, 22.53it/s]\n"
     ]
    },
    {
     "name": "stdout",
     "output_type": "stream",
     "text": [
      "loading obs//so_EN4_1000m_DJF.nc\n",
      "Loading model data\n"
     ]
    },
    {
     "name": "stderr",
     "output_type": "stream",
     "text": [
      "  0%|                                                                                                                                                     | 0/1 [00:00<?, ?it/s]"
     ]
    },
    {
     "name": "stdout",
     "output_type": "stream",
     "text": [
      "loading /work/ab0246/a270092/postprocessing/cmip6_cmpitool/siconc_GISS-E2-1-G_198912-201411_surface_MAM.nc\n",
      "loading /work/ab0246/a270092/postprocessing/cmip6_cmpitool/siconc_GISS-E2-1-G_198912-201411_surface_JJA.nc\n",
      "loading /work/ab0246/a270092/postprocessing/cmip6_cmpitool/siconc_GISS-E2-1-G_198912-201411_surface_SON.nc\n",
      "loading /work/ab0246/a270092/postprocessing/cmip6_cmpitool/siconc_GISS-E2-1-G_198912-201411_surface_DJF.nc\n",
      "loading /work/ab0246/a270092/postprocessing/cmip6_cmpitool/tas_GISS-E2-1-G_198912-201411_surface_MAM.nc\n",
      "loading /work/ab0246/a270092/postprocessing/cmip6_cmpitool/tas_GISS-E2-1-G_198912-201411_surface_JJA.nc\n",
      "loading /work/ab0246/a270092/postprocessing/cmip6_cmpitool/tas_GISS-E2-1-G_198912-201411_surface_SON.nc\n",
      "loading /work/ab0246/a270092/postprocessing/cmip6_cmpitool/tas_GISS-E2-1-G_198912-201411_surface_DJF.nc\n",
      "loading /work/ab0246/a270092/postprocessing/cmip6_cmpitool/clt_GISS-E2-1-G_198912-201411_surface_MAM.nc\n",
      "loading /work/ab0246/a270092/postprocessing/cmip6_cmpitool/clt_GISS-E2-1-G_198912-201411_surface_JJA.nc\n",
      "loading /work/ab0246/a270092/postprocessing/cmip6_cmpitool/clt_GISS-E2-1-G_198912-201411_surface_SON.nc\n",
      "loading /work/ab0246/a270092/postprocessing/cmip6_cmpitool/clt_GISS-E2-1-G_198912-201411_surface_DJF.nc\n",
      "loading /work/ab0246/a270092/postprocessing/cmip6_cmpitool/pr_GISS-E2-1-G_198912-201411_surface_MAM.nc\n",
      "loading /work/ab0246/a270092/postprocessing/cmip6_cmpitool/pr_GISS-E2-1-G_198912-201411_surface_JJA.nc\n",
      "loading /work/ab0246/a270092/postprocessing/cmip6_cmpitool/pr_GISS-E2-1-G_198912-201411_surface_SON.nc\n",
      "loading /work/ab0246/a270092/postprocessing/cmip6_cmpitool/pr_GISS-E2-1-G_198912-201411_surface_DJF.nc\n",
      "loading /work/ab0246/a270092/postprocessing/cmip6_cmpitool/rlut_GISS-E2-1-G_198912-201411_surface_MAM.nc\n",
      "loading /work/ab0246/a270092/postprocessing/cmip6_cmpitool/rlut_GISS-E2-1-G_198912-201411_surface_JJA.nc\n",
      "loading /work/ab0246/a270092/postprocessing/cmip6_cmpitool/rlut_GISS-E2-1-G_198912-201411_surface_SON.nc\n",
      "loading /work/ab0246/a270092/postprocessing/cmip6_cmpitool/rlut_GISS-E2-1-G_198912-201411_surface_DJF.nc\n",
      "loading /work/ab0246/a270092/postprocessing/cmip6_cmpitool/uas_GISS-E2-1-G_198912-201411_surface_MAM.nc\n",
      "loading /work/ab0246/a270092/postprocessing/cmip6_cmpitool/uas_GISS-E2-1-G_198912-201411_surface_JJA.nc\n",
      "loading /work/ab0246/a270092/postprocessing/cmip6_cmpitool/uas_GISS-E2-1-G_198912-201411_surface_SON.nc\n",
      "loading /work/ab0246/a270092/postprocessing/cmip6_cmpitool/uas_GISS-E2-1-G_198912-201411_surface_DJF.nc\n",
      "loading /work/ab0246/a270092/postprocessing/cmip6_cmpitool/vas_GISS-E2-1-G_198912-201411_surface_MAM.nc\n",
      "loading /work/ab0246/a270092/postprocessing/cmip6_cmpitool/vas_GISS-E2-1-G_198912-201411_surface_JJA.nc\n",
      "loading /work/ab0246/a270092/postprocessing/cmip6_cmpitool/vas_GISS-E2-1-G_198912-201411_surface_SON.nc\n",
      "loading /work/ab0246/a270092/postprocessing/cmip6_cmpitool/vas_GISS-E2-1-G_198912-201411_surface_DJF.nc\n",
      "loading /work/ab0246/a270092/postprocessing/cmip6_cmpitool/ua_GISS-E2-1-G_198912-201411_300hPa_MAM.nc\n",
      "loading /work/ab0246/a270092/postprocessing/cmip6_cmpitool/ua_GISS-E2-1-G_198912-201411_300hPa_JJA.nc\n",
      "loading /work/ab0246/a270092/postprocessing/cmip6_cmpitool/ua_GISS-E2-1-G_198912-201411_300hPa_SON.nc\n",
      "loading /work/ab0246/a270092/postprocessing/cmip6_cmpitool/ua_GISS-E2-1-G_198912-201411_300hPa_DJF.nc\n",
      "loading /work/ab0246/a270092/postprocessing/cmip6_cmpitool/zg_GISS-E2-1-G_198912-201411_500hPa_MAM.nc\n",
      "loading /work/ab0246/a270092/postprocessing/cmip6_cmpitool/zg_GISS-E2-1-G_198912-201411_500hPa_JJA.nc\n",
      "loading /work/ab0246/a270092/postprocessing/cmip6_cmpitool/zg_GISS-E2-1-G_198912-201411_500hPa_SON.nc\n",
      "loading /work/ab0246/a270092/postprocessing/cmip6_cmpitool/zg_GISS-E2-1-G_198912-201411_500hPa_DJF.nc\n",
      "loading /work/ab0246/a270092/postprocessing/cmip6_cmpitool/zos_GISS-E2-1-G_198912-201411_surface_MAM.nc\n",
      "loading /work/ab0246/a270092/postprocessing/cmip6_cmpitool/zos_GISS-E2-1-G_198912-201411_surface_JJA.nc\n",
      "loading /work/ab0246/a270092/postprocessing/cmip6_cmpitool/zos_GISS-E2-1-G_198912-201411_surface_SON.nc\n",
      "loading /work/ab0246/a270092/postprocessing/cmip6_cmpitool/zos_GISS-E2-1-G_198912-201411_surface_DJF.nc\n",
      "loading /work/ab0246/a270092/postprocessing/cmip6_cmpitool/tos_GISS-E2-1-G_198912-201411_surface_MAM.nc\n",
      "loading /work/ab0246/a270092/postprocessing/cmip6_cmpitool/tos_GISS-E2-1-G_198912-201411_surface_JJA.nc\n",
      "loading /work/ab0246/a270092/postprocessing/cmip6_cmpitool/tos_GISS-E2-1-G_198912-201411_surface_SON.nc\n",
      "loading /work/ab0246/a270092/postprocessing/cmip6_cmpitool/tos_GISS-E2-1-G_198912-201411_surface_DJF.nc\n",
      "loading /work/ab0246/a270092/postprocessing/cmip6_cmpitool/mlotst_GISS-E2-1-G_198912-201411_surface_MAM.nc\n",
      "loading /work/ab0246/a270092/postprocessing/cmip6_cmpitool/mlotst_GISS-E2-1-G_198912-201411_surface_JJA.nc\n",
      "loading /work/ab0246/a270092/postprocessing/cmip6_cmpitool/mlotst_GISS-E2-1-G_198912-201411_surface_SON.nc\n",
      "loading /work/ab0246/a270092/postprocessing/cmip6_cmpitool/mlotst_GISS-E2-1-G_198912-201411_surface_DJF.nc\n",
      "loading /work/ab0246/a270092/postprocessing/cmip6_cmpitool/thetao_GISS-E2-1-G_198912-201411_10m_MAM.nc\n",
      "loading /work/ab0246/a270092/postprocessing/cmip6_cmpitool/thetao_GISS-E2-1-G_198912-201411_10m_JJA.nc\n",
      "loading /work/ab0246/a270092/postprocessing/cmip6_cmpitool/thetao_GISS-E2-1-G_198912-201411_10m_SON.nc\n",
      "loading /work/ab0246/a270092/postprocessing/cmip6_cmpitool/thetao_GISS-E2-1-G_198912-201411_10m_DJF.nc\n",
      "loading /work/ab0246/a270092/postprocessing/cmip6_cmpitool/thetao_GISS-E2-1-G_198912-201411_100m_MAM.nc\n",
      "loading /work/ab0246/a270092/postprocessing/cmip6_cmpitool/thetao_GISS-E2-1-G_198912-201411_100m_JJA.nc\n",
      "loading /work/ab0246/a270092/postprocessing/cmip6_cmpitool/thetao_GISS-E2-1-G_198912-201411_100m_SON.nc\n",
      "loading /work/ab0246/a270092/postprocessing/cmip6_cmpitool/thetao_GISS-E2-1-G_198912-201411_100m_DJF.nc\n",
      "loading /work/ab0246/a270092/postprocessing/cmip6_cmpitool/thetao_GISS-E2-1-G_198912-201411_1000m_MAM.nc\n",
      "loading /work/ab0246/a270092/postprocessing/cmip6_cmpitool/thetao_GISS-E2-1-G_198912-201411_1000m_JJA.nc\n"
     ]
    },
    {
     "name": "stderr",
     "output_type": "stream",
     "text": [
      "100%|█████████████████████████████████████████████████████████████████████████████████████████████████████████████████████████████████████████████| 1/1 [00:00<00:00,  1.35it/s]\n"
     ]
    },
    {
     "name": "stdout",
     "output_type": "stream",
     "text": [
      "loading /work/ab0246/a270092/postprocessing/cmip6_cmpitool/thetao_GISS-E2-1-G_198912-201411_1000m_SON.nc\n",
      "loading /work/ab0246/a270092/postprocessing/cmip6_cmpitool/thetao_GISS-E2-1-G_198912-201411_1000m_DJF.nc\n",
      "loading /work/ab0246/a270092/postprocessing/cmip6_cmpitool/so_GISS-E2-1-G_198912-201411_10m_MAM.nc\n",
      "loading /work/ab0246/a270092/postprocessing/cmip6_cmpitool/so_GISS-E2-1-G_198912-201411_10m_JJA.nc\n",
      "loading /work/ab0246/a270092/postprocessing/cmip6_cmpitool/so_GISS-E2-1-G_198912-201411_10m_SON.nc\n",
      "loading /work/ab0246/a270092/postprocessing/cmip6_cmpitool/so_GISS-E2-1-G_198912-201411_10m_DJF.nc\n",
      "loading /work/ab0246/a270092/postprocessing/cmip6_cmpitool/so_GISS-E2-1-G_198912-201411_100m_MAM.nc\n",
      "loading /work/ab0246/a270092/postprocessing/cmip6_cmpitool/so_GISS-E2-1-G_198912-201411_100m_JJA.nc\n",
      "loading /work/ab0246/a270092/postprocessing/cmip6_cmpitool/so_GISS-E2-1-G_198912-201411_100m_SON.nc\n",
      "loading /work/ab0246/a270092/postprocessing/cmip6_cmpitool/so_GISS-E2-1-G_198912-201411_100m_DJF.nc\n",
      "loading /work/ab0246/a270092/postprocessing/cmip6_cmpitool/so_GISS-E2-1-G_198912-201411_1000m_MAM.nc\n",
      "loading /work/ab0246/a270092/postprocessing/cmip6_cmpitool/so_GISS-E2-1-G_198912-201411_1000m_JJA.nc\n",
      "loading /work/ab0246/a270092/postprocessing/cmip6_cmpitool/so_GISS-E2-1-G_198912-201411_1000m_SON.nc\n",
      "loading /work/ab0246/a270092/postprocessing/cmip6_cmpitool/so_GISS-E2-1-G_198912-201411_1000m_DJF.nc\n",
      "Calculating absolute error and field mean of abs error\n"
     ]
    },
    {
     "name": "stderr",
     "output_type": "stream",
     "text": [
      "100%|█████████████████████████████████████████████████████████████████████████████████████████████████████████████████████████████████████████████| 1/1 [00:11<00:00, 11.85s/it]\n"
     ]
    },
    {
     "name": "stdout",
     "output_type": "stream",
     "text": [
      "Writing field mean of errors into csv files\n"
     ]
    },
    {
     "name": "stderr",
     "output_type": "stream",
     "text": [
      "  0%|                                                                                                                                                     | 0/1 [00:00<?, ?it/s]"
     ]
    },
    {
     "name": "stdout",
     "output_type": "stream",
     "text": [
      "MAM surface Atlantic_Basin siconc GISS-E2-1-G\n",
      "> \u001b[0;32m/tmp/ipykernel_779552/1184049363.py\u001b[0m(45)\u001b[0;36mwrite_errors\u001b[0;34m()\u001b[0m\n",
      "\u001b[0;32m     43 \u001b[0;31m                                \u001b[0mprint\u001b[0m\u001b[0;34m(\u001b[0m\u001b[0mseas\u001b[0m\u001b[0;34m,\u001b[0m \u001b[0mdepth\u001b[0m\u001b[0;34m,\u001b[0m \u001b[0mregion\u001b[0m\u001b[0;34m.\u001b[0m\u001b[0mname\u001b[0m\u001b[0;34m,\u001b[0m \u001b[0mvar\u001b[0m\u001b[0;34m.\u001b[0m\u001b[0mname\u001b[0m\u001b[0;34m,\u001b[0m \u001b[0mmodel\u001b[0m\u001b[0;34m.\u001b[0m\u001b[0mname\u001b[0m\u001b[0;34m)\u001b[0m\u001b[0;34m\u001b[0m\u001b[0;34m\u001b[0m\u001b[0m\n",
      "\u001b[0m\u001b[0;32m     44 \u001b[0;31m                                \u001b[0;32mimport\u001b[0m \u001b[0mpdb\u001b[0m\u001b[0;34m;\u001b[0m \u001b[0mpdb\u001b[0m\u001b[0;34m.\u001b[0m\u001b[0mset_trace\u001b[0m\u001b[0;34m(\u001b[0m\u001b[0;34m)\u001b[0m\u001b[0;34m\u001b[0m\u001b[0;34m\u001b[0m\u001b[0m\n",
      "\u001b[0m\u001b[0;32m---> 45 \u001b[0;31m                                \u001b[0mprint\u001b[0m\u001b[0;34m(\u001b[0m\u001b[0mwriter\u001b[0m\u001b[0;34m.\u001b[0m\u001b[0mwriterow\u001b[0m\u001b[0;34m(\u001b[0m\u001b[0;34m[\u001b[0m\u001b[0mvar\u001b[0m\u001b[0;34m.\u001b[0m\u001b[0mname\u001b[0m\u001b[0;34m,\u001b[0m\u001b[0mregion\u001b[0m\u001b[0;34m.\u001b[0m\u001b[0mname\u001b[0m\u001b[0;34m,\u001b[0m\u001b[0mdepth\u001b[0m\u001b[0;34m,\u001b[0m\u001b[0mseas\u001b[0m\u001b[0;34m,\u001b[0m\u001b[0mnp\u001b[0m\u001b[0;34m.\u001b[0m\u001b[0msqueeze\u001b[0m\u001b[0;34m(\u001b[0m\u001b[0mmean_error\u001b[0m\u001b[0;34m[\u001b[0m\u001b[0mvar\u001b[0m\u001b[0;34m.\u001b[0m\u001b[0mname\u001b[0m\u001b[0;34m,\u001b[0m\u001b[0mdepth\u001b[0m\u001b[0;34m,\u001b[0m\u001b[0mseas\u001b[0m\u001b[0;34m,\u001b[0m\u001b[0mmodel\u001b[0m\u001b[0;34m.\u001b[0m\u001b[0mname\u001b[0m\u001b[0;34m,\u001b[0m\u001b[0mregion\u001b[0m\u001b[0;34m.\u001b[0m\u001b[0mname\u001b[0m\u001b[0;34m]\u001b[0m\u001b[0;34m.\u001b[0m\u001b[0mto_array\u001b[0m\u001b[0;34m(\u001b[0m\u001b[0mvar\u001b[0m\u001b[0;34m.\u001b[0m\u001b[0mname\u001b[0m\u001b[0;34m)\u001b[0m\u001b[0;34m.\u001b[0m\u001b[0mvalues\u001b[0m\u001b[0;34m[\u001b[0m\u001b[0;36m0\u001b[0m\u001b[0;34m]\u001b[0m\u001b[0;34m)\u001b[0m\u001b[0;34m]\u001b[0m\u001b[0;34m)\u001b[0m\u001b[0;34m)\u001b[0m\u001b[0;34m\u001b[0m\u001b[0;34m\u001b[0m\u001b[0m\n",
      "\u001b[0m\u001b[0;32m     46 \u001b[0;31m                            \u001b[0mwriter\u001b[0m\u001b[0;34m.\u001b[0m\u001b[0mwriterow\u001b[0m\u001b[0;34m(\u001b[0m\u001b[0;34m[\u001b[0m\u001b[0mvar\u001b[0m\u001b[0;34m.\u001b[0m\u001b[0mname\u001b[0m\u001b[0;34m,\u001b[0m\u001b[0mregion\u001b[0m\u001b[0;34m.\u001b[0m\u001b[0mname\u001b[0m\u001b[0;34m,\u001b[0m\u001b[0mdepth\u001b[0m\u001b[0;34m,\u001b[0m\u001b[0mseas\u001b[0m\u001b[0;34m,\u001b[0m\u001b[0mnp\u001b[0m\u001b[0;34m.\u001b[0m\u001b[0msqueeze\u001b[0m\u001b[0;34m(\u001b[0m\u001b[0mmean_error\u001b[0m\u001b[0;34m[\u001b[0m\u001b[0mvar\u001b[0m\u001b[0;34m.\u001b[0m\u001b[0mname\u001b[0m\u001b[0;34m,\u001b[0m\u001b[0mdepth\u001b[0m\u001b[0;34m,\u001b[0m\u001b[0mseas\u001b[0m\u001b[0;34m,\u001b[0m\u001b[0mmodel\u001b[0m\u001b[0;34m.\u001b[0m\u001b[0mname\u001b[0m\u001b[0;34m,\u001b[0m\u001b[0mregion\u001b[0m\u001b[0;34m.\u001b[0m\u001b[0mname\u001b[0m\u001b[0;34m]\u001b[0m\u001b[0;34m.\u001b[0m\u001b[0mto_array\u001b[0m\u001b[0;34m(\u001b[0m\u001b[0mvar\u001b[0m\u001b[0;34m.\u001b[0m\u001b[0mname\u001b[0m\u001b[0;34m)\u001b[0m\u001b[0;34m.\u001b[0m\u001b[0mvalues\u001b[0m\u001b[0;34m[\u001b[0m\u001b[0;36m0\u001b[0m\u001b[0;34m]\u001b[0m\u001b[0;34m)\u001b[0m\u001b[0;34m]\u001b[0m\u001b[0;34m)\u001b[0m\u001b[0;34m\u001b[0m\u001b[0;34m\u001b[0m\u001b[0m\n",
      "\u001b[0m\u001b[0;32m     47 \u001b[0;31m        \u001b[0;32mif\u001b[0m \u001b[0muse_for_eval\u001b[0m\u001b[0;34m:\u001b[0m\u001b[0;34m\u001b[0m\u001b[0;34m\u001b[0m\u001b[0m\n",
      "\u001b[0m\n"
     ]
    },
    {
     "name": "stdin",
     "output_type": "stream",
     "text": [
      "ipdb>  var.name\n"
     ]
    },
    {
     "name": "stdout",
     "output_type": "stream",
     "text": [
      "'siconc'\n"
     ]
    },
    {
     "name": "stdin",
     "output_type": "stream",
     "text": [
      "ipdb>  region.name\n"
     ]
    },
    {
     "name": "stdout",
     "output_type": "stream",
     "text": [
      "'Atlantic_Basin'\n"
     ]
    },
    {
     "name": "stdin",
     "output_type": "stream",
     "text": [
      "ipdb>  depth\n"
     ]
    },
    {
     "name": "stdout",
     "output_type": "stream",
     "text": [
      "'surface'\n"
     ]
    },
    {
     "name": "stdin",
     "output_type": "stream",
     "text": [
      "ipdb>  seas\n"
     ]
    },
    {
     "name": "stdout",
     "output_type": "stream",
     "text": [
      "'MAM'\n"
     ]
    },
    {
     "name": "stdin",
     "output_type": "stream",
     "text": [
      "ipdb>  mean_error[var.name,depth,seas,model.name,region.name]\n"
     ]
    },
    {
     "name": "stdout",
     "output_type": "stream",
     "text": [
      "<xarray.Dataset> Size: 16B\n",
      "Dimensions:  (time: 1)\n",
      "Coordinates:\n",
      "    region   int64 8B 8\n",
      "  * time     (time) datetime64[ns] 8B 2014-05-16T12:00:00\n",
      "Data variables:\n",
      "    *empty*\n"
     ]
    },
    {
     "name": "stdin",
     "output_type": "stream",
     "text": [
      "ipdb>  np.squeeze(mean_error[var.name,depth,seas,model.name,region.name].to_array(var.name)\n"
     ]
    },
    {
     "name": "stdout",
     "output_type": "stream",
     "text": [
      "*** SyntaxError: unexpected EOF while parsing\n"
     ]
    },
    {
     "name": "stdin",
     "output_type": "stream",
     "text": [
      "ipdb>  mean_error[var.name,depth,seas,model.name,region.name].to_array(var.name)\n"
     ]
    },
    {
     "name": "stdout",
     "output_type": "stream",
     "text": [
      "*** IndexError: list index out of range\n"
     ]
    }
   ],
   "source": [
    "#!/usr/bin/env python\n",
    "# coding: utf-8\n",
    "\n",
    "# # Setup\n",
    "\n",
    "from cmpitool import (cmpisetup)\n",
    "\n",
    "variable, region, climate_model, siconc, tas, clt, pr, rlut, uas, vas, ua, zg, zos, tos, mlotst, thetao, so = cmpisetup()\n",
    "model_path='/work/ab0246/a270092/postprocessing/cmip6_cmpitool'\n",
    "\n",
    "eval_models = [\n",
    "        climate_model(name='GISS-E2-1-G',  variables=[siconc, tas, clt, pr, rlut, uas, vas, ua, zg, zos, tos, mlotst, thetao, so]),\n",
    "    ]\n",
    "\n",
    "models = [\n",
    "        climate_model(name='GISS-E2-1-G',  variables=[siconc, tas, clt, pr, rlut, uas, vas, ua, zg, zos, tos, mlotst, thetao, so]),\n",
    "    ]\n",
    "\n",
    "\n",
    "cmpitool(model_path, models, eval_models ,use_for_eval=True,complexity='all',verbose=True)"
   ]
  },
  {
   "cell_type": "code",
   "execution_count": null,
   "id": "43cf4b00-f579-460e-a5a0-6169f36d12cf",
   "metadata": {},
   "outputs": [],
   "source": [
    "mean_error[var.name,depth,seas,model.name,region.name]\n"
   ]
  }
 ],
 "metadata": {
  "kernelspec": {
   "display_name": "Python 3 (ipykernel)",
   "language": "python",
   "name": "python3"
  },
  "language_info": {
   "codemirror_mode": {
    "name": "ipython",
    "version": 3
   },
   "file_extension": ".py",
   "mimetype": "text/x-python",
   "name": "python",
   "nbconvert_exporter": "python",
   "pygments_lexer": "ipython3",
   "version": "3.9.18"
  }
 },
 "nbformat": 4,
 "nbformat_minor": 5
}
